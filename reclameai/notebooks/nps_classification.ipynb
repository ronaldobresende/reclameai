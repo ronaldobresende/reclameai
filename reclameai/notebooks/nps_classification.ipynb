{
 "cells": [
  {
   "cell_type": "code",
   "execution_count": 1,
   "metadata": {},
   "outputs": [],
   "source": [
    "# Importando as bibliotecas necessárias\n",
    "import pandas as pd\n",
    "from openai import OpenAI\n",
    "from dotenv import load_dotenv\n",
    "import re\n",
    "import os"
   ]
  },
  {
   "cell_type": "code",
   "execution_count": 2,
   "metadata": {},
   "outputs": [
    {
     "name": "stdout",
     "output_type": "stream",
     "text": [
      "### Primeiras Linhas do Dataset\n"
     ]
    },
    {
     "data": {
      "text/html": [
       "<div>\n",
       "<style scoped>\n",
       "    .dataframe tbody tr th:only-of-type {\n",
       "        vertical-align: middle;\n",
       "    }\n",
       "\n",
       "    .dataframe tbody tr th {\n",
       "        vertical-align: top;\n",
       "    }\n",
       "\n",
       "    .dataframe thead th {\n",
       "        text-align: right;\n",
       "    }\n",
       "</style>\n",
       "<table border=\"1\" class=\"dataframe\">\n",
       "  <thead>\n",
       "    <tr style=\"text-align: right;\">\n",
       "      <th></th>\n",
       "      <th>Ocorrencia</th>\n",
       "      <th>Classificacao</th>\n",
       "      <th>Cliente</th>\n",
       "      <th>Documento</th>\n",
       "      <th>Data</th>\n",
       "      <th>Etapa</th>\n",
       "      <th>Relato</th>\n",
       "    </tr>\n",
       "  </thead>\n",
       "  <tbody>\n",
       "    <tr>\n",
       "      <th>0</th>\n",
       "      <td>2001</td>\n",
       "      <td>Problema em saque</td>\n",
       "      <td>Ana Vitória Lima</td>\n",
       "      <td>954.813.602-33</td>\n",
       "      <td>2025-01-26</td>\n",
       "      <td>1</td>\n",
       "      <td>2025-01-26 - Cliente Ana Vitória Lima (954.813...</td>\n",
       "    </tr>\n",
       "    <tr>\n",
       "      <th>1</th>\n",
       "      <td>2001</td>\n",
       "      <td>Problema em saque</td>\n",
       "      <td>Ana Vitória Lima</td>\n",
       "      <td>954.813.602-33</td>\n",
       "      <td>2025-01-26</td>\n",
       "      <td>2</td>\n",
       "      <td>Cliente foi informado da resolução e recebeu d...</td>\n",
       "    </tr>\n",
       "    <tr>\n",
       "      <th>2</th>\n",
       "      <td>2001</td>\n",
       "      <td>Problema em saque</td>\n",
       "      <td>Ana Vitória Lima</td>\n",
       "      <td>954.813.602-33</td>\n",
       "      <td>2025-01-26</td>\n",
       "      <td>3</td>\n",
       "      <td>Cliente ameaça abrir reclamação no Banco Centr...</td>\n",
       "    </tr>\n",
       "    <tr>\n",
       "      <th>3</th>\n",
       "      <td>2002</td>\n",
       "      <td>Atendimento ruim</td>\n",
       "      <td>Maria Julia Fogaça</td>\n",
       "      <td>493.017.685-93</td>\n",
       "      <td>2025-03-17</td>\n",
       "      <td>1</td>\n",
       "      <td>2025-03-17 - Cliente Maria Julia Fogaça (493.0...</td>\n",
       "    </tr>\n",
       "    <tr>\n",
       "      <th>4</th>\n",
       "      <td>2002</td>\n",
       "      <td>Atendimento ruim</td>\n",
       "      <td>Maria Julia Fogaça</td>\n",
       "      <td>493.017.685-93</td>\n",
       "      <td>2025-03-17</td>\n",
       "      <td>2</td>\n",
       "      <td>Cliente ameaça abrir reclamação no Banco Centr...</td>\n",
       "    </tr>\n",
       "  </tbody>\n",
       "</table>\n",
       "</div>"
      ],
      "text/plain": [
       "   Ocorrencia      Classificacao             Cliente       Documento  \\\n",
       "0        2001  Problema em saque    Ana Vitória Lima  954.813.602-33   \n",
       "1        2001  Problema em saque    Ana Vitória Lima  954.813.602-33   \n",
       "2        2001  Problema em saque    Ana Vitória Lima  954.813.602-33   \n",
       "3        2002   Atendimento ruim  Maria Julia Fogaça  493.017.685-93   \n",
       "4        2002   Atendimento ruim  Maria Julia Fogaça  493.017.685-93   \n",
       "\n",
       "         Data  Etapa                                             Relato  \n",
       "0  2025-01-26      1  2025-01-26 - Cliente Ana Vitória Lima (954.813...  \n",
       "1  2025-01-26      2  Cliente foi informado da resolução e recebeu d...  \n",
       "2  2025-01-26      3  Cliente ameaça abrir reclamação no Banco Centr...  \n",
       "3  2025-03-17      1  2025-03-17 - Cliente Maria Julia Fogaça (493.0...  \n",
       "4  2025-03-17      2  Cliente ameaça abrir reclamação no Banco Centr...  "
      ]
     },
     "metadata": {},
     "output_type": "display_data"
    },
    {
     "name": "stdout",
     "output_type": "stream",
     "text": [
      "### Verificação de Valores Ausentes\n"
     ]
    },
    {
     "data": {
      "text/plain": [
       "Ocorrencia       0\n",
       "Classificacao    0\n",
       "Cliente          0\n",
       "Documento        0\n",
       "Data             0\n",
       "Etapa            0\n",
       "Relato           2\n",
       "dtype: int64"
      ]
     },
     "metadata": {},
     "output_type": "display_data"
    },
    {
     "name": "stdout",
     "output_type": "stream",
     "text": [
      "Número de linhas duplicadas: 1\n"
     ]
    }
   ],
   "source": [
    "# Análise Exploratória dos Dados\n",
    "\n",
    "df = pd.read_csv('..\\\\data\\\\01_raw\\\\nps_mock.csv')\n",
    "\n",
    "print(\"### Primeiras Linhas do Dataset\")\n",
    "display(df.head())\n",
    "\n",
    "print(\"### Verificação de Valores Ausentes\")\n",
    "display(df.isnull().sum())\n",
    "\n",
    "duplicatas = df.duplicated().sum()\n",
    "print(f\"Número de linhas duplicadas: {duplicatas}\")\n"
   ]
  },
  {
   "cell_type": "code",
   "execution_count": 3,
   "metadata": {},
   "outputs": [
    {
     "name": "stdout",
     "output_type": "stream",
     "text": [
      "### Após Remoção de Linhas Duplicadas\n",
      "Número de linhas duplicadas restantes: 0\n",
      "Valores ausentes após o tratamento:\n"
     ]
    },
    {
     "data": {
      "text/plain": [
       "Ocorrencia       0\n",
       "Classificacao    0\n",
       "Cliente          0\n",
       "Documento        0\n",
       "Data             0\n",
       "Etapa            0\n",
       "Relato           0\n",
       "dtype: int64"
      ]
     },
     "metadata": {},
     "output_type": "display_data"
    }
   ],
   "source": [
    "# Remoção de linhas duplicadas\n",
    "df = df.drop_duplicates()\n",
    "print(\"### Após Remoção de Linhas Duplicadas\")\n",
    "print(f\"Número de linhas duplicadas restantes: {df.duplicated().sum()}\")\n",
    "\n",
    "# Removendo linhas onde a coluna 'Relato' possui valores ausentes\n",
    "df = df.dropna(subset=['Relato'])\n",
    "\n",
    "print(\"Valores ausentes após o tratamento:\")\n",
    "display(df.isnull().sum())\n",
    "\n"
   ]
  },
  {
   "cell_type": "code",
   "execution_count": 4,
   "metadata": {},
   "outputs": [],
   "source": [
    "def limpar_texto(texto):\n",
    "    texto = str(texto).strip()  # Remove espaços extras no início/fim\n",
    "    texto = re.sub(r\"\\s+\", \" \", texto)  # Remove múltiplos espaços\n",
    "    texto = re.sub(r\"[^\\w\\s,.!?-]\", \"\", texto)  # Remove caracteres estranhos, mantendo pontuação\n",
    "    return texto\n",
    "\n",
    "df[\"Relato\"] = df[\"Relato\"].apply(limpar_texto)"
   ]
  },
  {
   "cell_type": "code",
   "execution_count": 9,
   "metadata": {},
   "outputs": [
    {
     "data": {
      "text/plain": [
       "0     2025-01-26 - Cliente Ana Vitória Lima 954.813....\n",
       "1     2025-03-17 - Cliente Maria Julia Fogaça 493.01...\n",
       "2     2025-02-25 - Cliente Dr. Gustavo Rezende 762.4...\n",
       "3     2025-01-07 - Cliente Vitória Almeida 905.736.8...\n",
       "4     2025-01-25 - Cliente Ana Sophia Lima 210.794.3...\n",
       "5     2025-03-18 - Cliente Ana Lívia da Mota 637.158...\n",
       "6     2025-03-20 - Cliente Emanuelly Carvalho 573.49...\n",
       "7     2025-03-11 - Cliente Helena Campos 263.089.741...\n",
       "8     2025-02-22 - Cliente João Lucas Dias 804.912.3...\n",
       "9     2025-03-12 - Cliente João Pedro das Neves 691....\n",
       "10    2025-02-08 - Cliente Olivia Fernandes 970.826....\n",
       "11    2025-01-30 - Cliente Sr. Vitor Gabriel Porto 5...\n",
       "12    2025-02-24 - Cliente Sophie Barros 257.089.346...\n",
       "13    2025-02-10 - Cliente Gabrielly da Costa 506.42...\n",
       "14    2025-02-15 - Cliente Caio Almeida 341.295.078-...\n",
       "15    2025-01-12 - Cliente Maria Fernanda Novaes 816...\n",
       "16    2025-02-05 - Cliente Vicente Correia 316.287.4...\n",
       "17    2025-01-14 - Cliente Isaac Martins 815.906.437...\n",
       "18    2025-02-24 - Cliente Samuel Correia 640.587.39...\n",
       "19    2025-01-06 - Cliente Enrico Moreira 572.348.16...\n",
       "Name: Relato, dtype: object"
      ]
     },
     "execution_count": 9,
     "metadata": {},
     "output_type": "execute_result"
    }
   ],
   "source": [
    "# 4Agrupa os relatos por ocorrência, separando com \"###\"\n",
    "df_grouped = df.groupby(\"Ocorrencia\", as_index=False).agg(lambda x: \"\\n### \".join(x.astype(str)) if x.name == \"Relato\" else x.iloc[0])\n",
    "\n",
    "df_grouped[\"Relato\"]"
   ]
  },
  {
   "cell_type": "code",
   "execution_count": 10,
   "metadata": {},
   "outputs": [],
   "source": [
    "client = OpenAI(api_key=os.getenv(\"OPENAI_API_KEY\"))\n",
    "\n",
    "# Função para criar o prompt\n",
    "def criar_prompt(historico, classificacoes):\n",
    "    \"\"\"Cria o prompt para a classificação de reclamações.\"\"\"\n",
    "    categorias = \"\\n    - \".join(classificacoes)\n",
    "    prompt = f\"\"\"\n",
    "    Analise o seguinte histórico de atendimento e classifique o problema principal em uma das seguintes categorias:\n",
    "    \n",
    "    - {categorias}\n",
    "\n",
    "    Cada atualização no histórico é separada por \"###\".\n",
    "\n",
    "    Histórico:\n",
    "    ### {historico}\n",
    "\n",
    "    Responda apenas com o nome da categoria.\n",
    "    \"\"\"\n",
    "    return prompt.strip()\n",
    "\n",
    "# Função para classificar a ocorrência com base no histórico completo\n",
    "def classificar_reclamacao(historico, classificacoes):\n",
    "    \"\"\"Classifica uma única ocorrência com base no histórico completo.\"\"\"\n",
    "    prompt = criar_prompt(historico, classificacoes)  # Chama a função para criar o prompt\n",
    "    response = client.chat.completions.create(\n",
    "        model=\"gpt-4o\",\n",
    "        messages=[{\"role\": \"user\", \"content\": prompt}]\n",
    "    )\n",
    "    return response.choices[0].message.content\n",
    "\n",
    "# Lista de classificações\n",
    "classificacoes = [\n",
    "    'Problema em saque', \n",
    "    'Atendimento ruim', \n",
    "    'Fraude bancária', \n",
    "    'Cobrança indevida', \n",
    "    'Cartão clonado', \n",
    "    'PIX enviado errado', \n",
    "    'Problema com fatura do cartão', \n",
    "    'Problema com limite de crédito', \n",
    "    'Problema no acesso ao app', \n",
    "    'Débito não autorizado'\n",
    "]\n",
    "\n",
    "# Aplicando a função ao DataFrame\n",
    "df_grouped[\"categoria\"] = df_grouped[\"Relato\"].apply(lambda relato: classificar_reclamacao(relato, classificacoes))\n",
    "\n",
    "# 6️⃣ Salva os resultados no S3\n",
    "output_file = \"reclamacoes_classificadas.csv\"\n",
    "df_grouped.to_csv(output_file, index=False)"
   ]
  }
 ],
 "metadata": {
  "kernelspec": {
   "display_name": "reclame_env",
   "language": "python",
   "name": "python3"
  },
  "language_info": {
   "codemirror_mode": {
    "name": "ipython",
    "version": 3
   },
   "file_extension": ".py",
   "mimetype": "text/x-python",
   "name": "python",
   "nbconvert_exporter": "python",
   "pygments_lexer": "ipython3",
   "version": "3.12.10"
  }
 },
 "nbformat": 4,
 "nbformat_minor": 2
}
